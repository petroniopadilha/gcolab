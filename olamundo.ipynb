{
  "nbformat": 4,
  "nbformat_minor": 0,
  "metadata": {
    "colab": {
      "provenance": [],
      "authorship_tag": "ABX9TyNoi45DtKiQ767plRSpUUfY",
      "include_colab_link": true
    },
    "kernelspec": {
      "name": "python3",
      "display_name": "Python 3"
    },
    "language_info": {
      "name": "python"
    }
  },
  "cells": [
    {
      "cell_type": "markdown",
      "metadata": {
        "id": "view-in-github",
        "colab_type": "text"
      },
      "source": [
        "<a href=\"https://colab.research.google.com/github/petroniopadilha/gcolab/blob/main/olamundo.ipynb\" target=\"_parent\"><img src=\"https://colab.research.google.com/assets/colab-badge.svg\" alt=\"Open In Colab\"/></a>"
      ]
    },
    {
      "cell_type": "code",
      "execution_count": 1,
      "metadata": {
        "colab": {
          "base_uri": "https://localhost:8080/"
        },
        "id": "OOzjIK0sYEbc",
        "outputId": "a6f00729-9d17-4d3f-d36c-4f6cebe3ff3b"
      },
      "outputs": [
        {
          "output_type": "stream",
          "name": "stdout",
          "text": [
            "ola mundo\n",
            "ola mundo\n",
            "ola mundo\n",
            "ola mundo\n",
            "ola mundo\n",
            "ola mundo\n",
            "ola mundo\n",
            "ola mundo\n",
            "ola mundo\n",
            "ola mundo\n",
            "ola mundo\n",
            "ola mundo\n",
            "ola mundo\n",
            "ola mundo\n",
            "ola mundo\n",
            "ola mundo\n",
            "ola mundo\n",
            "ola mundo\n",
            "ola mundo\n",
            "ola mundo\n",
            "ola mundo\n",
            "ola mundo\n",
            "ola mundo\n",
            "ola mundo\n",
            "ola mundo\n",
            "ola mundo\n",
            "ola mundo\n",
            "ola mundo\n",
            "ola mundo\n",
            "ola mundo\n",
            "ola mundo\n",
            "ola mundo\n",
            "ola mundo\n",
            "ola mundo\n",
            "ola mundo\n",
            "ola mundo\n",
            "ola mundo\n",
            "ola mundo\n",
            "ola mundo\n",
            "ola mundo\n",
            "ola mundo\n",
            "ola mundo\n",
            "ola mundo\n",
            "ola mundo\n",
            "ola mundo\n",
            "ola mundo\n",
            "ola mundo\n",
            "ola mundo\n",
            "ola mundo\n",
            "ola mundo\n",
            "ola mundo\n",
            "ola mundo\n",
            "ola mundo\n",
            "ola mundo\n",
            "ola mundo\n",
            "ola mundo\n",
            "ola mundo\n",
            "ola mundo\n",
            "ola mundo\n",
            "ola mundo\n",
            "ola mundo\n",
            "ola mundo\n",
            "ola mundo\n",
            "ola mundo\n",
            "ola mundo\n",
            "ola mundo\n",
            "ola mundo\n",
            "ola mundo\n",
            "ola mundo\n",
            "ola mundo\n",
            "ola mundo\n",
            "ola mundo\n",
            "ola mundo\n",
            "ola mundo\n",
            "ola mundo\n",
            "ola mundo\n",
            "ola mundo\n",
            "ola mundo\n",
            "ola mundo\n",
            "ola mundo\n",
            "ola mundo\n",
            "ola mundo\n",
            "ola mundo\n",
            "ola mundo\n",
            "ola mundo\n",
            "ola mundo\n",
            "ola mundo\n",
            "ola mundo\n",
            "ola mundo\n",
            "ola mundo\n",
            "ola mundo\n",
            "ola mundo\n",
            "ola mundo\n",
            "ola mundo\n",
            "ola mundo\n",
            "ola mundo\n",
            "ola mundo\n",
            "ola mundo\n",
            "ola mundo\n",
            "ola mundo\n",
            "\n"
          ]
        }
      ],
      "source": [
        "print('ola mundo\\n'*100)"
      ]
    },
    {
      "cell_type": "code",
      "source": [],
      "metadata": {
        "id": "ok6_gQjnYbBe"
      },
      "execution_count": null,
      "outputs": []
    },
    {
      "cell_type": "code",
      "source": [],
      "metadata": {
        "id": "TAnr5v0JYba4"
      },
      "execution_count": null,
      "outputs": []
    }
  ]
}